{
 "cells": [
  {
   "cell_type": "markdown",
   "source": [
    "Author: Ani Aggarwal  \n",
    "Github: www.github.com/AniAggarwal"
   ],
   "metadata": {
    "collapsed": false,
    "pycharm": {
     "name": "#%% md\n"
    }
   }
  },
  {
   "cell_type": "code",
   "execution_count": 1,
   "id": "unexpected-encounter",
   "metadata": {},
   "outputs": [
    {
     "name": "stderr",
     "output_type": "stream",
     "text": [
      "C:\\Anaconda3\\miniconda3\\envs\\flow\\lib\\site-packages\\ipykernel\\parentpoller.py:113: UserWarning: Parent poll failed.  If the frontend dies,\n",
      "                the kernel may be left running.  Please let us know\n",
      "                about your system (bitness, Python, etc.) at\n",
      "                ipython-dev@scipy.org\n",
      "  warnings.warn(\"\"\"Parent poll failed.  If the frontend dies,\n"
     ]
    }
   ],
   "source": [
    "import librosa\n",
    "import librosa.display\n",
    "import soundfile\n",
    "\n",
    "from scipy.signal import butter, lfilter\n",
    "import numpy as np\n",
    "import sklearn\n",
    "import pandas as pd\n",
    "\n",
    "%matplotlib inline\n",
    "import matplotlib.pyplot as plt\n",
    "\n",
    "from pathlib import Path\n",
    "import csv\n",
    "import json"
   ]
  },
  {
   "cell_type": "code",
   "execution_count": 41,
   "id": "surprising-fiction",
   "metadata": {},
   "outputs": [],
   "source": [
    "DATA_SR = 128 # in Hz\n",
    "AUDIO_LEN = 5  # in seconds\n",
    "num_samples = AUDIO_LEN * DATA_SR\n",
    "\n",
    "\n",
    "dataset_dir = Path(\"./datasets/ECG-kaggle-cleaned/\")"
   ]
  },
  {
   "cell_type": "code",
   "execution_count": null,
   "id": "apparent-transition",
   "metadata": {},
   "outputs": [],
   "source": [
    "data = []"
   ]
  },
  {
   "cell_type": "code",
   "execution_count": 40,
   "id": "endangered-contrast",
   "metadata": {},
   "outputs": [
    {
     "name": "stdout",
     "output_type": "stream",
     "text": [
      "Processing datasets\\ECG-kaggle-cleaned\\incartdb_npy\n",
      "Loading datasets\\ECG-kaggle-cleaned\\incartdb_npy\\I01_BEAT.npy\n",
      "(2757, 2)\n",
      "Processing datasets\\ECG-kaggle-cleaned\\mitdb_npy\n",
      "Loading datasets\\ECG-kaggle-cleaned\\mitdb_npy\\100_BEAT.npy\n",
      "(2273, 2)\n",
      "Processing datasets\\ECG-kaggle-cleaned\\svdb_npy\n",
      "Loading datasets\\ECG-kaggle-cleaned\\svdb_npy\\800_BEAT.npy\n",
      "(1883, 2)\n"
     ]
    }
   ],
   "source": [
    "for subdataset_dir in dataset_dir.iterdir():\n",
    "    if subdataset_dir.is_dir():\n",
    "        print(\"Processing\", subdataset_dir)\n",
    "        with open(subdataset_dir / \"RECORDS\", \"r\") as f:\n",
    "            for line in f:\n",
    "                file_num = line.strip()\n",
    "                data_point = np.load(subdataset_dir / (file_num + \"_BEAT.npy\"))\n",
    "                print(data_point.shape)\n",
    "                \n",
    "                \n",
    "                break"
   ]
  },
  {
   "cell_type": "code",
   "execution_count": 94,
   "id": "structured-patrick",
   "metadata": {},
   "outputs": [
    {
     "data": {
      "text/plain": [
       "array([1.25000e+02, 2.57000e+02, 3.86000e+02, ..., 2.30813e+05,\n",
       "       2.30876e+05, 2.31037e+05])"
      ]
     },
     "execution_count": 94,
     "metadata": {},
     "output_type": "execute_result"
    },
    {
     "data": {
      "text/plain": [
       "array(['N', 'N', 'N', ..., 'V', 'V', 'N'], dtype='<U6')"
      ]
     },
     "execution_count": 94,
     "metadata": {},
     "output_type": "execute_result"
    }
   ],
   "source": [
    "test = np.load(\"./datasets/ECG-kaggle-cleaned/mitdb_npy/105_BEAT.npy\", allow_pickle=True)\n",
    "nums = np.array(test[:, 0], dtype=np.float)\n",
    "labels = test[:, 1].astype(str)\n",
    "\n",
    "nums\n",
    "labels"
   ]
  },
  {
   "cell_type": "code",
   "execution_count": 95,
   "id": "fatal-suffering",
   "metadata": {},
   "outputs": [
    {
     "data": {
      "text/plain": [
       "<librosa.display.AdaptiveWaveplot at 0x2054e5f7fa0>"
      ]
     },
     "execution_count": 95,
     "metadata": {},
     "output_type": "execute_result"
    },
    {
     "data": {
      "image/png": "[encoded data removed]",
      "text/plain": [
       "<Figure size 432x288 with 1 Axes>"
      ]
     },
     "metadata": {
      "needs_background": "light"
     },
     "output_type": "display_data"
    }
   ],
   "source": [
    "librosa.display.waveshow(nums, sr=DATA_SR)"
   ]
  },
  {
   "cell_type": "markdown",
   "id": "elegant-thesaurus",
   "metadata": {},
   "source": [
    "# Not cleaned dataset"
   ]
  },
  {
   "cell_type": "code",
   "execution_count": 2,
   "id": "excited-consumer",
   "metadata": {},
   "outputs": [],
   "source": [
    "DATA_SR = 125 # in Hz"
   ]
  },
  {
   "cell_type": "code",
   "execution_count": 3,
   "id": "preliminary-fisher",
   "metadata": {},
   "outputs": [],
   "source": [
    "df_train = pd.read_csv(\"./datasets/ECG-kaggle/mitbih_train.csv\", header=None)\n",
    "df_train = df_train.sample(frac=1)\n",
    "df_test = pd.read_csv(\"./datasets/ECG-kaggle/mitbih_test.csv\", header=None)\n",
    "df_test = df_test.sample(frac=1)"
   ]
  },
  {
   "cell_type": "code",
   "execution_count": 4,
   "id": "unlimited-trainer",
   "metadata": {},
   "outputs": [],
   "source": [
    "X_train = np.array(df_train[list(range(187))].values)\n",
    "X_train = np.expand_dims(X_train, -1)\n",
    "y_train = np.array(df_train[187].values).astype(np.int8)\n",
    "y_train[y_train != 0] = 1 # coverting to be just normal (0) and abnormal (1)"
   ]
  },
  {
   "cell_type": "code",
   "execution_count": 5,
   "id": "proud-brass",
   "metadata": {},
   "outputs": [],
   "source": [
    "X_test = np.array(df_test[list(range(187))].values)\n",
    "X_test = np.expand_dims(X_test, -1)\n",
    "y_test = np.array(df_test[187].values).astype(np.int8)\n",
    "y_test[y_test != 0] = 1"
   ]
  },
  {
   "cell_type": "code",
   "execution_count": 6,
   "id": "consistent-filing",
   "metadata": {},
   "outputs": [
    {
     "data": {
      "text/plain": [
       "{0, 1}"
      ]
     },
     "execution_count": 6,
     "metadata": {},
     "output_type": "execute_result"
    },
    {
     "data": {
      "text/plain": [
       "(87554, 187, 1)"
      ]
     },
     "execution_count": 6,
     "metadata": {},
     "output_type": "execute_result"
    },
    {
     "data": {
      "text/plain": [
       "(87554,)"
      ]
     },
     "execution_count": 6,
     "metadata": {},
     "output_type": "execute_result"
    },
    {
     "data": {
      "text/plain": [
       "(21892, 187, 1)"
      ]
     },
     "execution_count": 6,
     "metadata": {},
     "output_type": "execute_result"
    },
    {
     "data": {
      "text/plain": [
       "(21892,)"
      ]
     },
     "execution_count": 6,
     "metadata": {},
     "output_type": "execute_result"
    }
   ],
   "source": [
    "set(y_train)\n",
    "\n",
    "X_train.shape\n",
    "y_train.shape\n",
    "X_test.shape\n",
    "y_test.shape"
   ]
  },
  {
   "cell_type": "code",
   "execution_count": 7,
   "id": "finite-compiler",
   "metadata": {},
   "outputs": [
    {
     "data": {
      "text/plain": [
       "(187, 1)"
      ]
     },
     "execution_count": 7,
     "metadata": {},
     "output_type": "execute_result"
    }
   ],
   "source": [
    "X_train[0].shape"
   ]
  },
  {
   "cell_type": "code",
   "execution_count": 8,
   "id": "revised-public",
   "metadata": {},
   "outputs": [
    {
     "data": {
      "text/plain": [
       "(187,)"
      ]
     },
     "execution_count": 8,
     "metadata": {},
     "output_type": "execute_result"
    }
   ],
   "source": [
    "X_train[0, :, 0].shape"
   ]
  },
  {
   "cell_type": "code",
   "execution_count": 9,
   "id": "egyptian-officer",
   "metadata": {},
   "outputs": [
    {
     "data": {
      "text/plain": [
       "(1.0, 0.0, 0.17428295254906395)"
      ]
     },
     "execution_count": 9,
     "metadata": {},
     "output_type": "execute_result"
    }
   ],
   "source": [
    "X_train.max(), X_train.min(), X_train.mean()"
   ]
  },
  {
   "cell_type": "code",
   "execution_count": 27,
   "id": "expensive-parker",
   "metadata": {},
   "outputs": [
    {
     "name": "stderr",
     "output_type": "stream",
     "text": [
      "C:\\Anaconda3\\miniconda3\\envs\\flow\\lib\\site-packages\\librosa\\util\\utils.py:198: UserWarning: librosa.util.frame called with axis=-1 on a non-contiguous input. This will result in a copy.\n",
      "  warnings.warn(\n"
     ]
    },
    {
     "data": {
      "text/plain": [
       "<librosa.display.AdaptiveWaveplot at 0x17db631a460>"
      ]
     },
     "execution_count": 27,
     "metadata": {},
     "output_type": "execute_result"
    },
    {
     "data": {
      "image/png": "[encoded data removed]",
      "text/plain": [
       "<Figure size 432x288 with 1 Axes>"
      ]
     },
     "metadata": {
      "needs_background": "light"
     },
     "output_type": "display_data"
    }
   ],
   "source": [
    "librosa.display.waveshow(X_train[0, :, 0], sr=DATA_SR)"
   ]
  },
  {
   "cell_type": "code",
   "execution_count": 28,
   "id": "editorial-lewis",
   "metadata": {},
   "outputs": [
    {
     "data": {
      "text/plain": [
       "0"
      ]
     },
     "execution_count": 28,
     "metadata": {},
     "output_type": "execute_result"
    }
   ],
   "source": [
    "soundfile.write(\"./datasets/test-wav-normal.wav\", X_train[0, :, 0], 125)\n",
    "y_train[0]"
   ]
  },
  {
   "cell_type": "markdown",
   "id": "genetic-eating",
   "metadata": {},
   "source": [
    "# Inference"
   ]
  },
  {
   "cell_type": "code",
   "execution_count": 7,
   "id": "editorial-occurrence",
   "metadata": {},
   "outputs": [],
   "source": [
    "# model_full_save = Path(\n",
    "#     \"./model_saves/transfer/2021-06-27_05-35-15_epochs_100-batch_size_1000-lr_0.01/full_save\"\n",
    "# )\n",
    "model_full_save = Path(\n",
    "    \"./model_saves/best-0.9889_val_acc-backup/full_save\"\n",
    ")\n",
    "\n",
    "test_audio_path = Path(\n",
    "    \"./datasets/classification-heart-sounds-physionet/training-a/a0004.wav\"\n",
    ")\n",
    "test_set_path = Path(\n",
    "    \"./datasets/classification-heart-sounds-physionet/validation\"\n",
    ")\n",
    "test_output_path = Path(\"./datasets/classification-heart-sounds-physionet/numpy-data/data-test.json\")"
   ]
  },
  {
   "cell_type": "code",
   "execution_count": 8,
   "id": "greatest-conversion",
   "metadata": {},
   "outputs": [],
   "source": [
    "from inference import Inference\n",
    "from create_dataset import create_test_set\n",
    "from clean_dataset import load_data"
   ]
  },
  {
   "cell_type": "code",
   "execution_count": 9,
   "id": "cosmetic-juvenile",
   "metadata": {},
   "outputs": [
    {
     "name": "stdout",
     "output_type": "stream",
     "text": [
      "Model: \"sequential\"\n",
      "_________________________________________________________________\n",
      "Layer (type)                 Output Shape              Param #   \n",
      "=================================================================\n",
      "bidirectional (Bidirectional (None, 187, 256)          133120    \n",
      "_________________________________________________________________\n",
      "bidirectional_1 (Bidirection (None, 187, 128)          164352    \n",
      "_________________________________________________________________\n",
      "bidirectional_2 (Bidirection (None, 64)                41216     \n",
      "_________________________________________________________________\n",
      "dense (Dense)                (None, 32)                2080      \n",
      "_________________________________________________________________\n",
      "batch_normalization (BatchNo (None, 32)                128       \n",
      "_________________________________________________________________\n",
      "re_lu (ReLU)                 (None, 32)                0         \n",
      "_________________________________________________________________\n",
      "dropout (Dropout)            (None, 32)                0         \n",
      "_________________________________________________________________\n",
      "dense_1 (Dense)              (None, 1)                 33        \n",
      "=================================================================\n",
      "Total params: 340,929\n",
      "Trainable params: 340,865\n",
      "Non-trainable params: 64\n",
      "_________________________________________________________________\n"
     ]
    }
   ],
   "source": [
    "inference = Inference(\n",
    "    model_full_save, 125, 125\n",
    ")  # for testing, dataset has 2kHz sample rate"
   ]
  },
  {
   "cell_type": "code",
   "execution_count": 17,
   "id": "editorial-breeding",
   "metadata": {},
   "outputs": [
    {
     "data": {
      "text/plain": [
       "[('unsure', array([0], dtype=int8)),\n",
       " ('unsure', array([1], dtype=int8)),\n",
       " ('unsure', array([0], dtype=int8)),\n",
       " ('unsure', array([0], dtype=int8)),\n",
       " ('unsure', array([0], dtype=int8)),\n",
       " ('unsure', array([1], dtype=int8)),\n",
       " ('unsure', array([1], dtype=int8)),\n",
       " ('unsure', array([0], dtype=int8)),\n",
       " ('unsure', array([0], dtype=int8)),\n",
       " ('unsure', array([0], dtype=int8))]"
      ]
     },
     "execution_count": 17,
     "metadata": {},
     "output_type": "execute_result"
    }
   ],
   "source": [
    "[(inference.predict(X_train[i:i+1]), y_train[i:i+1]) for i in range(10)]"
   ]
  },
  {
   "cell_type": "code",
   "execution_count": 9,
   "id": "infrared-charger",
   "metadata": {},
   "outputs": [
    {
     "name": "stdout",
     "output_type": "stream",
     "text": [
      "Data loaded. X shape: (4093, 187), y shape: (4093,)\n"
     ]
    }
   ],
   "source": [
    "# create_test_set(test_set_path, test_output_path)\n",
    "X_test, y_test = load_data(test_output_path)\n",
    "X_test = np.expand_dims(X_test, -1)  # add dimension to make it uniform with model input\n",
    "y_test[y_test == -1] = 0  # convert to 1 for abnormal and 0 for normal"
   ]
  },
  {
   "cell_type": "code",
   "execution_count": 6,
   "id": "outdoor-tutorial",
   "metadata": {},
   "outputs": [
    {
     "name": "stdout",
     "output_type": "stream",
     "text": [
      "128/128 [==============================] - 3s 23ms/step - loss: 1.2352 - accuracy: 0.0000e+00 - binary_accuracy: 0.4977 - AUC-ROC: 0.4955 - AUC-PR: 0.5107 - precision: 0.5026 - recall: 0.6498 - true_positive: 1345.0000 - false_positive: 1331.0000 - false_negative: 725.0000 - true_negative: 692.0000\n"
     ]
    },
    {
     "data": {
      "text/plain": [
       "{'loss': 1.2352006435394287,\n",
       " 'accuracy': 0.0,\n",
       " 'binary_accuracy': 0.4976789653301239,\n",
       " 'AUC-ROC': 0.49552395939826965,\n",
       " 'AUC-PR': 0.5106804370880127,\n",
       " 'precision': 0.5026158690452576,\n",
       " 'recall': 0.6497584581375122,\n",
       " 'true_positive': 1345.0,\n",
       " 'false_positive': 1331.0,\n",
       " 'false_negative': 725.0,\n",
       " 'true_negative': 692.0,\n",
       " 'f1': 0.5667931060295063,\n",
       " 'sensitivity': 0.6497584541062802,\n",
       " 'specificity': 0.34206623826000987}"
      ]
     },
     "execution_count": 6,
     "metadata": {},
     "output_type": "execute_result"
    }
   ],
   "source": [
    "result = inference.evaluate(X_test, y_test)\n",
    "\n",
    "result"
   ]
  },
  {
   "cell_type": "code",
   "execution_count": 7,
   "id": "graduate-filter",
   "metadata": {},
   "outputs": [
    {
     "name": "stdout",
     "output_type": "stream",
     "text": [
      "tmp\\tmp_recording.wav\n"
     ]
    }
   ],
   "source": [
    "audio_np, sr = librosa.load(test_audio_path, sr=125)\n",
    "wav = inference.get_wav(audio_np.tolist())\n",
    "print(wav)"
   ]
  },
  {
   "cell_type": "code",
   "execution_count": 8,
   "id": "refined-hello",
   "metadata": {},
   "outputs": [],
   "source": [
    "inference.delete_wav(wav)"
   ]
  },
  {
   "cell_type": "code",
   "execution_count": 9,
   "id": "connected-westminster",
   "metadata": {},
   "outputs": [
    {
     "name": "stdout",
     "output_type": "stream",
     "text": [
      "abnormal\n"
     ]
    }
   ],
   "source": [
    "print(inference.predict(audio_np))"
   ]
  },
  {
   "cell_type": "code",
   "execution_count": null,
   "id": "cheap-netscape",
   "metadata": {},
   "outputs": [],
   "source": []
  }
 ],
 "metadata": {
  "kernelspec": {
   "display_name": "Python [conda env:flow]",
   "language": "python",
   "name": "conda-env-flow-py"
  },
  "language_info": {
   "codemirror_mode": {
    "name": "ipython",
    "version": 3
   },
   "file_extension": ".py",
   "mimetype": "text/x-python",
   "name": "python",
   "nbconvert_exporter": "python",
   "pygments_lexer": "ipython3",
   "version": "3.8.10"
  }
 },
 "nbformat": 4,
 "nbformat_minor": 5
}