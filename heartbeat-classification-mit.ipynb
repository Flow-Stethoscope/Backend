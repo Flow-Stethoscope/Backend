{
 "cells": [
  {
   "cell_type": "code",
   "execution_count": 2,
   "id": "physical-watson",
   "metadata": {},
   "outputs": [],
   "source": [
    "import librosa\n",
    "import librosa.display\n",
    "\n",
    "from scipy.signal import butter, lfilter\n",
    "import numpy as np\n",
    "import sklearn\n",
    "import pandas as pd\n",
    "\n",
    "%matplotlib inline\n",
    "import matplotlib.pyplot as plt\n",
    "\n",
    "from pathlib import Path\n",
    "import csv\n",
    "import json"
   ]
  },
  {
   "cell_type": "code",
   "execution_count": 41,
   "id": "congressional-premiere",
   "metadata": {},
   "outputs": [],
   "source": [
    "DATA_SR = 128 # in Hz\n",
    "AUDIO_LEN = 5  # in seconds\n",
    "num_samples = AUDIO_LEN * DATA_SR\n",
    "\n",
    "\n",
    "dataset_dir = Path(\"./datasets/ECG-kaggle-cleaned/\")"
   ]
  },
  {
   "cell_type": "code",
   "execution_count": null,
   "id": "institutional-likelihood",
   "metadata": {},
   "outputs": [],
   "source": [
    "data = []"
   ]
  },
  {
   "cell_type": "code",
   "execution_count": 40,
   "id": "boolean-sullivan",
   "metadata": {},
   "outputs": [
    {
     "name": "stdout",
     "output_type": "stream",
     "text": [
      "Processing datasets\\ECG-kaggle-cleaned\\incartdb_npy\n",
      "Loading datasets\\ECG-kaggle-cleaned\\incartdb_npy\\I01_BEAT.npy\n",
      "(2757, 2)\n",
      "Processing datasets\\ECG-kaggle-cleaned\\mitdb_npy\n",
      "Loading datasets\\ECG-kaggle-cleaned\\mitdb_npy\\100_BEAT.npy\n",
      "(2273, 2)\n",
      "Processing datasets\\ECG-kaggle-cleaned\\svdb_npy\n",
      "Loading datasets\\ECG-kaggle-cleaned\\svdb_npy\\800_BEAT.npy\n",
      "(1883, 2)\n"
     ]
    }
   ],
   "source": [
    "for subdataset_dir in dataset_dir.iterdir():\n",
    "    if subdataset_dir.is_dir():\n",
    "        print(\"Processing\", subdataset_dir)\n",
    "        with open(subdataset_dir / \"RECORDS\", \"r\") as f:\n",
    "            for line in f:\n",
    "                file_num = line.strip()\n",
    "                data_point = np.load(subdataset_dir / (file_num + \"_BEAT.npy\"))\n",
    "                print(data_point.shape)\n",
    "                \n",
    "                \n",
    "                break"
   ]
  },
  {
   "cell_type": "code",
   "execution_count": 94,
   "id": "pleasant-falls",
   "metadata": {},
   "outputs": [
    {
     "data": {
      "text/plain": [
       "array([1.25000e+02, 2.57000e+02, 3.86000e+02, ..., 2.30813e+05,\n",
       "       2.30876e+05, 2.31037e+05])"
      ]
     },
     "execution_count": 94,
     "metadata": {},
     "output_type": "execute_result"
    },
    {
     "data": {
      "text/plain": [
       "array(['N', 'N', 'N', ..., 'V', 'V', 'N'], dtype='<U6')"
      ]
     },
     "execution_count": 94,
     "metadata": {},
     "output_type": "execute_result"
    }
   ],
   "source": [
    "test = np.load(\"./datasets/ECG-kaggle-cleaned/mitdb_npy/105_BEAT.npy\", allow_pickle=True)\n",
    "nums = np.array(test[:, 0], dtype=np.float)\n",
    "labels = test[:, 1].astype(str)\n",
    "\n",
    "nums\n",
    "labels"
   ]
  },
  {
   "cell_type": "code",
   "execution_count": 95,
   "id": "logical-insertion",
   "metadata": {},
   "outputs": [
    {
     "data": {
      "text/plain": [
       "<librosa.display.AdaptiveWaveplot at 0x2054e5f7fa0>"
      ]
     },
     "execution_count": 95,
     "metadata": {},
     "output_type": "execute_result"
    },
    {
     "data": {
      "image/png": "[encoded data removed]",
      "text/plain": [
       "<Figure size 432x288 with 1 Axes>"
      ]
     },
     "metadata": {
      "needs_background": "light"
     },
     "output_type": "display_data"
    }
   ],
   "source": [
    "librosa.display.waveshow(nums, sr=DATA_SR)"
   ]
  },
  {
   "cell_type": "markdown",
   "id": "interracial-saying",
   "metadata": {},
   "source": [
    "# Not cleaned dataset"
   ]
  },
  {
   "cell_type": "code",
   "execution_count": 3,
   "id": "current-conversion",
   "metadata": {},
   "outputs": [],
   "source": [
    "DATA_SR = 125 # in Hz"
   ]
  },
  {
   "cell_type": "code",
   "execution_count": 4,
   "id": "compact-philosophy",
   "metadata": {},
   "outputs": [],
   "source": [
    "df_train = pd.read_csv(\"./datasets/ECG-kaggle/mitbih_train.csv\", header=None)\n",
    "df_train = df_train.sample(frac=1)\n",
    "df_test = pd.read_csv(\"./datasets/ECG-kaggle/mitbih_test.csv\", header=None)\n",
    "df_test = df_test.sample(frac=1)"
   ]
  },
  {
   "cell_type": "code",
   "execution_count": 6,
   "id": "mineral-accuracy",
   "metadata": {},
   "outputs": [],
   "source": [
    "X_train = np.array(df_train[list(range(187))].values)\n",
    "X_train = np.expand_dims(X_train, -1)\n",
    "y_train = np.array(df_train[187].values).astype(np.int8)\n",
    "y_train[y_train != 0] = 1 # coverting to be just normal (0) and abnormal (1)"
   ]
  },
  {
   "cell_type": "code",
   "execution_count": 7,
   "id": "compatible-source",
   "metadata": {},
   "outputs": [],
   "source": [
    "X_test = np.array(df_test[list(range(187))].values)\n",
    "X_test = np.expand_dims(X_test, -1)\n",
    "y_test = np.array(df_test[187].values).astype(np.int8)\n",
    "y_test[y_test != 0] = 1"
   ]
  },
  {
   "cell_type": "code",
   "execution_count": 8,
   "id": "incorporate-shirt",
   "metadata": {},
   "outputs": [
    {
     "data": {
      "text/plain": [
       "{0, 1}"
      ]
     },
     "execution_count": 8,
     "metadata": {},
     "output_type": "execute_result"
    },
    {
     "data": {
      "text/plain": [
       "(87554, 187, 1)"
      ]
     },
     "execution_count": 8,
     "metadata": {},
     "output_type": "execute_result"
    },
    {
     "data": {
      "text/plain": [
       "(87554,)"
      ]
     },
     "execution_count": 8,
     "metadata": {},
     "output_type": "execute_result"
    },
    {
     "data": {
      "text/plain": [
       "(21892, 187, 1)"
      ]
     },
     "execution_count": 8,
     "metadata": {},
     "output_type": "execute_result"
    },
    {
     "data": {
      "text/plain": [
       "(21892,)"
      ]
     },
     "execution_count": 8,
     "metadata": {},
     "output_type": "execute_result"
    }
   ],
   "source": [
    "set(y_train)\n",
    "\n",
    "X_train.shape\n",
    "y_train.shape\n",
    "X_test.shape\n",
    "y_test.shape"
   ]
  },
  {
   "cell_type": "code",
   "execution_count": null,
   "id": "cooperative-investor",
   "metadata": {},
   "outputs": [],
   "source": []
  }
 ],
 "metadata": {
  "kernelspec": {
   "display_name": "Python [conda env:flow]",
   "language": "python",
   "name": "conda-env-flow-py"
  },
  "language_info": {
   "codemirror_mode": {
    "name": "ipython",
    "version": 3
   },
   "file_extension": ".py",
   "mimetype": "text/x-python",
   "name": "python",
   "nbconvert_exporter": "python",
   "pygments_lexer": "ipython3",
   "version": "3.8.10"
  }
 },
 "nbformat": 4,
 "nbformat_minor": 5
}
